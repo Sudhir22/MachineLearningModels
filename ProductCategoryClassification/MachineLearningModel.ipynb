{
 "cells": [
  {
   "cell_type": "code",
   "execution_count": 1,
   "metadata": {},
   "outputs": [],
   "source": [
    "import pandas as pd\n",
    "import numpy as np\n",
    "import nltk"
   ]
  },
  {
   "cell_type": "code",
   "execution_count": 18,
   "metadata": {},
   "outputs": [
    {
     "data": {
      "text/html": [
       "<div>\n",
       "<style scoped>\n",
       "    .dataframe tbody tr th:only-of-type {\n",
       "        vertical-align: middle;\n",
       "    }\n",
       "\n",
       "    .dataframe tbody tr th {\n",
       "        vertical-align: top;\n",
       "    }\n",
       "\n",
       "    .dataframe thead th {\n",
       "        text-align: right;\n",
       "    }\n",
       "</style>\n",
       "<table border=\"1\" class=\"dataframe\">\n",
       "  <thead>\n",
       "    <tr style=\"text-align: right;\">\n",
       "      <th></th>\n",
       "      <th>Inv_Id</th>\n",
       "      <th>Vendor_Code</th>\n",
       "      <th>GL_Code</th>\n",
       "      <th>Inv_Amt</th>\n",
       "      <th>Item_Description</th>\n",
       "      <th>Product_Category</th>\n",
       "    </tr>\n",
       "  </thead>\n",
       "  <tbody>\n",
       "    <tr>\n",
       "      <th>0</th>\n",
       "      <td>1</td>\n",
       "      <td>VENDOR-61</td>\n",
       "      <td>GL-6050100</td>\n",
       "      <td>6.973473</td>\n",
       "      <td>AETNA VARIABLE FUND - Apr-2002 - Store Managem...</td>\n",
       "      <td>CLASS-784</td>\n",
       "    </tr>\n",
       "    <tr>\n",
       "      <th>1</th>\n",
       "      <td>2</td>\n",
       "      <td>VENDOR-61</td>\n",
       "      <td>GL-6050100</td>\n",
       "      <td>25.053841</td>\n",
       "      <td>AETNA VARIABLE FUND - Nov-2000 - Store Managem...</td>\n",
       "      <td>CLASS-784</td>\n",
       "    </tr>\n",
       "    <tr>\n",
       "      <th>2</th>\n",
       "      <td>3</td>\n",
       "      <td>VENDOR-449</td>\n",
       "      <td>GL-6050100</td>\n",
       "      <td>53.573737</td>\n",
       "      <td>FAIRCHILD CORP - Nov-2001 - Store Management R...</td>\n",
       "      <td>CLASS-784</td>\n",
       "    </tr>\n",
       "    <tr>\n",
       "      <th>3</th>\n",
       "      <td>4</td>\n",
       "      <td>VENDOR-682</td>\n",
       "      <td>GL-6050100</td>\n",
       "      <td>67.388827</td>\n",
       "      <td>CALIFORNIA REAL ESTATE INVESTMENT TRUST - Aug-...</td>\n",
       "      <td>CLASS-784</td>\n",
       "    </tr>\n",
       "    <tr>\n",
       "      <th>4</th>\n",
       "      <td>5</td>\n",
       "      <td>VENDOR-682</td>\n",
       "      <td>GL-6050100</td>\n",
       "      <td>74.262047</td>\n",
       "      <td>CALIFORNIA REAL ESTATE INVESTMENT TRUST - Mar-...</td>\n",
       "      <td>CLASS-784</td>\n",
       "    </tr>\n",
       "  </tbody>\n",
       "</table>\n",
       "</div>"
      ],
      "text/plain": [
       "   Inv_Id Vendor_Code     GL_Code    Inv_Amt  \\\n",
       "0       1   VENDOR-61  GL-6050100   6.973473   \n",
       "1       2   VENDOR-61  GL-6050100  25.053841   \n",
       "2       3  VENDOR-449  GL-6050100  53.573737   \n",
       "3       4  VENDOR-682  GL-6050100  67.388827   \n",
       "4       5  VENDOR-682  GL-6050100  74.262047   \n",
       "\n",
       "                                    Item_Description Product_Category  \n",
       "0  AETNA VARIABLE FUND - Apr-2002 - Store Managem...        CLASS-784  \n",
       "1  AETNA VARIABLE FUND - Nov-2000 - Store Managem...        CLASS-784  \n",
       "2  FAIRCHILD CORP - Nov-2001 - Store Management R...        CLASS-784  \n",
       "3  CALIFORNIA REAL ESTATE INVESTMENT TRUST - Aug-...        CLASS-784  \n",
       "4  CALIFORNIA REAL ESTATE INVESTMENT TRUST - Mar-...        CLASS-784  "
      ]
     },
     "execution_count": 18,
     "metadata": {},
     "output_type": "execute_result"
    }
   ],
   "source": [
    "# Reading data from csv\n",
    "train_data=pd.read_csv('Train.csv')\n",
    "train_data.head()"
   ]
  },
  {
   "cell_type": "code",
   "execution_count": 19,
   "metadata": {},
   "outputs": [],
   "source": [
    "\"\"\"\n",
    "Preprocessing the description of items.\n",
    "\n",
    "\"\"\"\n",
    "def preprocessor(text):\n",
    "    __tokenization_pattern = r'''(?x)          # set flag to allow verbose regexps\n",
    "        \\$?\\d+(?:\\.\\d+)?%?  # currency and percentages, e.g. $12.40, 82%\n",
    "      | (?:[A-Z]\\.)+        # abbreviations, e.g. U.S.A.\n",
    "      | \\w+(?:-\\w+)*        # words with optional internal hyphens\n",
    "      | \\.\\.\\.              # ellipsis\n",
    "      | [][.,;\"'?():_`-]    # these are separate tokens; includes ], [\n",
    "    '''\n",
    "\n",
    "    ## call it using tokenizer.tokenize\n",
    "    tokenizer = nltk.tokenize.regexp.RegexpTokenizer(__tokenization_pattern)\n",
    "    tokens = tokenizer.tokenize(text.lower())\n",
    "    alphabet_tokens = [token for token in tokens if token.isalpha()]\n",
    "    en_stopwords = set(nltk.corpus.stopwords.words('english'))\n",
    "    non_stopwords = [word for word in alphabet_tokens if not word in en_stopwords]\n",
    "    stemmer = nltk.stem.snowball.SnowballStemmer(\"english\")\n",
    "    stems = [str(stemmer.stem(word)) for word in non_stopwords]\n",
    "    \n",
    "    return stems\n",
    "\n",
    "train_data['Item_Description'] = train_data['Item_Description'].apply(preprocessor)"
   ]
  },
  {
   "cell_type": "code",
   "execution_count": 6,
   "metadata": {},
   "outputs": [],
   "source": [
    "\"\"\"\n",
    "Converting the descriptions of items into vector form \n",
    "\n",
    "\"\"\"\n",
    "from sklearn.feature_extraction.text import CountVectorizer\n",
    "bow_vectorizer = CountVectorizer(lowercase = False, \n",
    "                                     tokenizer = lambda x: x, # because we already have tokens available\n",
    "                                     stop_words = None, ## stop words removal already done from NLTK\n",
    "                                     max_features = 150000, ## pick top 150K words by frequency\n",
    "                                     ngram_range = (1, 2), ## we want bigrams now\n",
    "                                     binary = False) ## we do not want as binary/boolean features\n"
   ]
  },
  {
   "cell_type": "code",
   "execution_count": 11,
   "metadata": {},
   "outputs": [
    {
     "data": {
      "text/plain": [
       "Pipeline(memory=None,\n",
       "     steps=[('bow', CountVectorizer(analyzer='word', binary=False, decode_error='strict',\n",
       "        dtype=<class 'numpy.int64'>, encoding='utf-8', input='content',\n",
       "        lowercase=False, max_df=1.0, max_features=150000, min_df=1,\n",
       "        ngram_range=(1, 2), preprocessor=None, stop_words=None,\n",
       "        str...ty='l2', random_state=None, solver='liblinear', tol=0.0001,\n",
       "          verbose=0, warm_start=False))])"
      ]
     },
     "execution_count": 11,
     "metadata": {},
     "output_type": "execute_result"
    }
   ],
   "source": [
    "\"\"\"\n",
    "Creating a pipeline to train the machine learning model\n",
    "\n",
    "\"\"\"\n",
    "from sklearn.pipeline import Pipeline\n",
    "from sklearn import naive_bayes\n",
    "from sklearn.linear_model import LogisticRegression\n",
    "from sklearn.feature_extraction.text import TfidfTransformer\n",
    "from sklearn.model_selection import cross_val_score\n",
    "\n",
    "\n",
    "c=Pipeline(steps=[('bow',bow_vectorizer),\n",
    "                  ('tfidf',TfidfTransformer()),\n",
    "                  ('lr',LogisticRegression(C=20))])\n",
    "\n",
    "\n",
    "msk = np.random.rand(len(train_data)) < 0.75\n",
    "train_X = train_data.Item_Description[msk]\n",
    "test_X = train_data.Item_Description[~msk]\n",
    "y=train_data['Product_Category']\n",
    "train_y = y[msk]\n",
    "test_y = y[~msk]\n",
    "\n",
    "c.fit(train_X,train_y)"
   ]
  },
  {
   "cell_type": "code",
   "execution_count": 12,
   "metadata": {},
   "outputs": [
    {
     "name": "stdout",
     "output_type": "stream",
     "text": [
      "0.9993201903467029\n"
     ]
    }
   ],
   "source": [
    "from sklearn.metrics import mean_squared_error\n",
    "from sklearn.metrics import accuracy_score\n",
    "from sklearn.model_selection import cross_val_score\n",
    "#print(cross_val_score(clf,text_vec_train,y,cv=5))\n",
    "print(accuracy_score(pd.Series(test_y).values,c.predict(test_X)))\n",
    "\n",
    "\n",
    "\n"
   ]
  },
  {
   "cell_type": "code",
   "execution_count": 14,
   "metadata": {},
   "outputs": [],
   "source": [
    "test_data=pd.read_csv('Test.csv')\n",
    "test_data['Item_Description']=test_data['Item_Description'].apply(preprocessor)"
   ]
  },
  {
   "cell_type": "code",
   "execution_count": 15,
   "metadata": {},
   "outputs": [],
   "source": [
    "test_data['Product_Category']=pd.Series(c.predict(test_data['Item_Description']))"
   ]
  },
  {
   "cell_type": "code",
   "execution_count": 16,
   "metadata": {},
   "outputs": [
    {
     "name": "stdout",
     "output_type": "stream",
     "text": [
      "   Inv_Id  Vendor_Code     GL_Code    Inv_Amt  \\\n",
      "0       6  VENDOR-1197  GL-6050100  10.916343   \n",
      "1      12   VENDOR-792  GL-6050100  38.658772   \n",
      "2      14   VENDOR-792  GL-6050100  46.780476   \n",
      "3      18   VENDOR-792  GL-6050100   7.058866   \n",
      "4      19   VENDOR-792  GL-6050100  32.931765   \n",
      "\n",
      "                                    Item_Description Product_Category  \n",
      "0  [desoto, inc, store, manag, real, estat, real,...        CLASS-784  \n",
      "1  [centuri, realti, trust, store, manag, real, e...        CLASS-784  \n",
      "2  [centuri, realti, trust, store, manag, real, e...        CLASS-784  \n",
      "3  [centuri, realti, trust, store, manag, real, e...        CLASS-784  \n",
      "4  [centuri, realti, trust, store, manag, real, e...        CLASS-784  \n"
     ]
    }
   ],
   "source": [
    "print(test_data.head())"
   ]
  },
  {
   "cell_type": "code",
   "execution_count": 17,
   "metadata": {},
   "outputs": [],
   "source": [
    "test_data[['Inv_Id','Product_Category']].to_csv('output.csv',index=False)"
   ]
  }
 ],
 "metadata": {
  "kernelspec": {
   "display_name": "Python 3",
   "language": "python",
   "name": "python3"
  },
  "language_info": {
   "codemirror_mode": {
    "name": "ipython",
    "version": 3
   },
   "file_extension": ".py",
   "mimetype": "text/x-python",
   "name": "python",
   "nbconvert_exporter": "python",
   "pygments_lexer": "ipython3",
   "version": "3.6.5"
  }
 },
 "nbformat": 4,
 "nbformat_minor": 2
}
