{
 "cells": [
  {
   "cell_type": "markdown",
   "metadata": {
    "deletable": false,
    "editable": false,
    "nbgrader": {
     "checksum": "ff790970842b144adf6d9cba4fc24da2",
     "grade": false,
     "grade_id": "cell-29af7c6b95714435",
     "locked": true,
     "schema_version": 1,
     "solution": false
    }
   },
   "source": [
    "# Information Retrieval"
   ]
  },
  {
   "cell_type": "code",
   "execution_count": null,
   "metadata": {
    "deletable": false,
    "editable": false,
    "nbgrader": {
     "checksum": "abade6bdab3a02908c43d1f0a84151a5",
     "grade": false,
     "grade_id": "cell-47305e931ef5437d",
     "locked": true,
     "schema_version": 1,
     "solution": false
    }
   },
   "outputs": [],
   "source": []
  },
  {
   "cell_type": "markdown",
   "metadata": {
    "deletable": false,
    "editable": false,
    "nbgrader": {
     "checksum": "a365e56c45d35686c209865f6d5db2bd",
     "grade": false,
     "grade_id": "cell-4eb6f686aa493e2f",
     "locked": true,
     "schema_version": 1,
     "solution": false
    }
   },
   "source": []
  },
  {
   "cell_type": "markdown",
   "metadata": {
    "deletable": false,
    "editable": false,
    "nbgrader": {
     "checksum": "4674684480b8ea208284f1610f9b9b50",
     "grade": false,
     "grade_id": "cell-37e4a49ffb49455e",
     "locked": true,
     "schema_version": 1,
     "solution": false
    }
   },
   "source": [
    "# Indexing a dataset"
   ]
  },
  {
   "cell_type": "markdown",
   "metadata": {
    "deletable": false,
    "editable": false,
    "nbgrader": {
     "checksum": "30cf82081447ba18b53aeca01a460789",
     "grade": false,
     "grade_id": "cell-1f5bd984facb5788",
     "locked": true,
     "schema_version": 1,
     "solution": false
    }
   },
   "source": []
  },
  {
   "cell_type": "markdown",
   "metadata": {
    "deletable": false,
    "editable": false,
    "nbgrader": {
     "checksum": "578ed1cbb1af0ba2105f00224058934e",
     "grade": false,
     "grade_id": "cell-5e6d4a6f55f250ef",
     "locked": true,
     "schema_version": 1,
     "solution": false
    }
   },
   "source": [
    "Basic configuration for indexing."
   ]
  },
  {
   "cell_type": "code",
   "execution_count": 1,
   "metadata": {
    "deletable": false,
    "editable": false,
    "nbgrader": {
     "checksum": "c1a0606aa7784018abc6977bb4fa4ff0",
     "grade": false,
     "grade_id": "cell-cef73deb3dfdc0dc",
     "locked": true,
     "schema_version": 1,
     "solution": false
    }
   },
   "outputs": [],
   "source": [
    "# basic configuration for indexing\n",
    "basic_settings = {\n",
    "  \"mappings\": {\n",
    "    \"doc\": {\n",
    "      \"properties\": {\n",
    "        \"filename\": {\n",
    "          \"type\": \"keyword\",\n",
    "          \"index\": False,\n",
    "        },\n",
    "        \"path\": {\n",
    "          \"type\": \"keyword\",\n",
    "          \"index\": False,\n",
    "        },\n",
    "        \"text\": {\n",
    "          \"type\": \"text\",\n",
    "          \"similarity\": \"boolean\",\n",
    "          \"analyzer\": \"my_analyzer\",\n",
    "          \"search_analyzer\": \"my_analyzer\"\n",
    "        }\n",
    "      }\n",
    "    }\n",
    "  },\n",
    "  \"settings\": {\n",
    "    \"analysis\": {\n",
    "      \"analyzer\": {\n",
    "        \"my_analyzer\": {\n",
    "          \"filter\": [\n",
    "            \"stop\"\n",
    "          ],\n",
    "          \"char_filter\": [\n",
    "            \"html_strip\"\n",
    "          ],\n",
    "          \"type\": \"custom\",\n",
    "          \"tokenizer\": \"whitespace\"\n",
    "        }\n",
    "      }\n",
    "    }\n",
    "  }   \n",
    "}"
   ]
  },
  {
   "cell_type": "markdown",
   "metadata": {
    "deletable": false,
    "editable": false,
    "nbgrader": {
     "checksum": "4344c89893e1b1c6fbcc6fe74629beb7",
     "grade": false,
     "grade_id": "cell-0dc69ad1d421eb01",
     "locked": true,
     "schema_version": 1,
     "solution": false
    }
   },
   "source": []
  },
  {
   "cell_type": "code",
   "execution_count": 2,
   "metadata": {
    "deletable": false,
    "nbgrader": {
     "checksum": "5cb5236e66797287871e49e28e7c8c8a",
     "grade": true,
     "grade_id": "cell-2ad53a8c14acab88",
     "locked": false,
     "points": 0,
     "schema_version": 1,
     "solution": true
    }
   },
   "outputs": [],
   "source": [
    "# done for a set of government documents. change the DOCS_PATH for reusing code for other documents\n",
    "import os, io\n",
    "from collections import namedtuple\n",
    "from elasticsearch import Elasticsearch\n",
    "\n",
    "ES_HOSTS = ['http://localhost:9200']\n",
    "DOCS_PATH = 'gov/documents'\n",
    "INDEX_NAME = 'gov'\n",
    "DOC_TYPE = 'doc'\n",
    "\n",
    "def build_gov_index(es_conn, index_name, doc_path, settings):\n",
    "    Doc = namedtuple('Doc', 'filename path text')\n",
    "    dataset=[]\n",
    "    for root, dirs, files in os.walk(DOCS_PATH):\n",
    "        for doc_path in files:\n",
    "            \n",
    "            filename = (root+\"/\"+doc_path).split('/')[-1]\n",
    "            fp = io.open(root+\"/\"+doc_path, 'r', encoding = \"ISO-8859-1\")\n",
    "            text = fp.read().strip()\n",
    "            fp.close()\n",
    "            dataset.append(Doc(filename = filename, text = text, path = doc_path))\n",
    "\n",
    "            \n",
    "            \n",
    "    if es_conn.indices.exists(index_name):\n",
    "        es_conn.indices.delete(index = index_name)\n",
    "        print('index `{}` deleted'.format(index_name))\n",
    "    es_conn.indices.create(index = index_name, ignore = 400, body = settings)\n",
    "    print('index `{}` created'.format(index_name))            \n",
    "    counter_read, counter_idx_failed = 0, 0 # counters\n",
    "\n",
    "    # retrive & index documents\n",
    "    for doc in dataset:\n",
    "        res = es_conn.index(\n",
    "            index = index_name,\n",
    "            id = doc.filename,\n",
    "            doc_type = DOC_TYPE,\n",
    "            body = doc._asdict())\n",
    "        counter_read += 1\n",
    "\n",
    "        if res['result'] != 'created':\n",
    "            conter_idx_failed += 1\n",
    "        else:\n",
    "            print('indexed {} documents'.format(counter_read))\n",
    "\n",
    "    print('indexed {} docs to index `{}`, failed to index {} docs'.format(\n",
    "        counter_read,\n",
    "        index_name,\n",
    "        counter_idx_failed\n",
    "    ))\n",
    "    \n",
    "    # refresh after indexing\n",
    "    es_conn.indices.refresh(index=index_name)  \n",
    "\n",
    "\n",
    "\n",
    "es_conn = Elasticsearch(ES_HOSTS)\n",
    "build_gov_index(es_conn, INDEX_NAME, DOCS_PATH, basic_settings)"
   ]
  },
  {
   "cell_type": "markdown",
   "metadata": {
    "deletable": false,
    "editable": false,
    "nbgrader": {
     "checksum": "fc2430fad40e9648f288c10549f1a9ed",
     "grade": false,
     "grade_id": "cell-fc12976b47c62f6a",
     "locked": true,
     "schema_version": 1,
     "solution": false
    }
   },
   "source": [
    "## Search and measure performance"
   ]
  },
  {
   "cell_type": "markdown",
   "metadata": {
    "deletable": false,
    "editable": false,
    "nbgrader": {
     "checksum": "aac9d7d67b22a29b28a10e12f41db348",
     "grade": false,
     "grade_id": "cell-f24c11e452feb323",
     "locked": true,
     "schema_version": 1,
     "solution": false
    }
   },
   "source": []
  },
  {
   "cell_type": "code",
   "execution_count": 10,
   "metadata": {
    "deletable": false,
    "nbgrader": {
     "checksum": "d103a5c1fc0c2538b41031c8d9ebc569",
     "grade": true,
     "grade_id": "cell-76dc8b9da4ebc7c2",
     "locked": false,
     "points": 0,
     "schema_version": 1,
     "solution": true
    }
   },
   "outputs": [],
   "source": [
    "#searching for documents based on a query string and ranking them based on similarity\n",
    "\n",
    "def search(query_string, es_conn, index_name):\n",
    "    '''\n",
    "        searches for query_string with default search algorithm\n",
    "        input:\n",
    "            - query_string: a query\n",
    "            - es_conn: elasticsearch connection\n",
    "            - index_name: name of index\n",
    "        output:\n",
    "            - a generator of tuple (filename, score)\n",
    "\n",
    "    '''\n",
    "    res = es_conn.search(index = index_name,\n",
    "        body = {\n",
    "            \"_source\": [ \"filename\"],\n",
    "            \"query\": {\n",
    "                \"query_string\": {\n",
    "                    \"query\": query_string,\n",
    "                }\n",
    "            }\n",
    "        }\n",
    "    )\n",
    "    return res['hits']['hits']\n",
    "\n",
    "def read_search_write_output(search_fn, query_path, output_file):\n",
    "    with open(output_file, 'w') as output:\n",
    "        output.write('QueryId,DocumentNumber,Similarity,Iteration,RunId,Rank\\n')  #for your convenience\n",
    "\n",
    "        # YOUR CODE HERE\n",
    "        \n",
    "        f=io.open(query_path,'r',encoding = \"ISO-8859-1\")\n",
    "        text=f.read().strip().split(\"\\n\")\n",
    "        i=1\n",
    "        for query in text:\n",
    "            result = search_fn(query[2:], es_conn, INDEX_NAME)\n",
    "            \n",
    "            count=0\n",
    "            for r in result:\n",
    "                if count<10:\n",
    "                    output.write(query[:2]+','+r['_source']['filename']+',0,0,0,0\\n')\n",
    "                    count=count+1\n",
    "            i=i+1\n",
    "\n",
    "                                \n",
    "                        \n",
    "                    \n",
    "                    \n",
    "        \n",
    "\n",
    "query_path = 'gov/topics/gov.topics'\n",
    "output_file = 'output.csv'\n",
    "read_search_write_output(search, query_path, output_file)"
   ]
  },
  {
   "cell_type": "markdown",
   "metadata": {
    "deletable": false,
    "editable": false,
    "nbgrader": {
     "checksum": "d3bd9b6e33dd6e1585698f05256b8e23",
     "grade": false,
     "grade_id": "cell-c66326adeb8c9a53",
     "locked": true,
     "schema_version": 1,
     "solution": false
    }
   },
   "source": [
    "## Improve indexer"
   ]
  },
  {
   "cell_type": "markdown",
   "metadata": {
    "deletable": false,
    "editable": false,
    "nbgrader": {
     "checksum": "1df59eeb9fc0a012f54925c4797a3699",
     "grade": false,
     "grade_id": "cell-9b36a3646fd7bd72",
     "locked": true,
     "schema_version": 1,
     "solution": false
    }
   },
   "source": []
  },
  {
   "cell_type": "code",
   "execution_count": 4,
   "metadata": {
    "deletable": false,
    "nbgrader": {
     "checksum": "fdcfc7c7fce31f8623f29aaa8fd239c0",
     "grade": true,
     "grade_id": "cell-884cf4f296f09710",
     "locked": false,
     "points": 0,
     "schema_version": 1,
     "solution": true
    }
   },
   "outputs": [],
   "source": [
    "# configure settings to define your own analyzer for indexing\n",
    "q3_settings = {\n",
    "  \"mappings\": {\n",
    "    \"doc\": {\n",
    "      \"properties\": {\n",
    "        \"filename\": {\n",
    "          \"type\": \"keyword\",\n",
    "          \"index\": False,\n",
    "        },\n",
    "        \"path\": {\n",
    "          \"type\": \"keyword\",\n",
    "          \"index\": False,\n",
    "        },\n",
    "        \"text\": {\n",
    "          \"type\": \"text\",\n",
    "          \"similarity\": \"boolean\",\n",
    "          \"analyzer\": \"my_analyzer\",\n",
    "          \"search_analyzer\": \"my_analyzer\"\n",
    "        }\n",
    "      }\n",
    "    }\n",
    "  },\n",
    "  \"settings\": {\n",
    "    \"analysis\": {\n",
    "      \"analyzer\": {\n",
    "          \"my_analyzer\": {\n",
    "            \"filter\": [\n",
    "            \"stop\",\"lowercase\",\"porter_stem\"\n",
    "          ],\n",
    "          \"char_filter\": [\n",
    "            \"html_strip\"\n",
    "          ],\n",
    "          \"type\": \"custom\",\n",
    "          \"tokenizer\": \"standard\"\n",
    "        }\n",
    "      }\n",
    "    }\n",
    "  }\n",
    "}"
   ]
  },
  {
   "cell_type": "code",
   "execution_count": 1,
   "metadata": {
    "deletable": false,
    "editable": false,
    "nbgrader": {
     "checksum": "ff79ec9422b088b1e2d8b96844e79fd4",
     "grade": false,
     "grade_id": "cell-942792d0eb35960a",
     "locked": true,
     "schema_version": 1,
     "solution": false
    },
    "scrolled": false
   },
   "outputs": [
    {
     "ename": "NameError",
     "evalue": "name 'build_gov_index' is not defined",
     "output_type": "error",
     "traceback": [
      "\u001b[0;31m---------------------------------------------------------------------------\u001b[0m",
      "\u001b[0;31mNameError\u001b[0m                                 Traceback (most recent call last)",
      "\u001b[0;32m<ipython-input-1-f8a90cf27171>\u001b[0m in \u001b[0;36m<module>\u001b[0;34m()\u001b[0m\n\u001b[1;32m      1\u001b[0m \u001b[0;31m# TODO: run this block to generate an output based on q3_settings defined above.\u001b[0m\u001b[0;34m\u001b[0m\u001b[0;34m\u001b[0m\u001b[0m\n\u001b[0;32m----> 2\u001b[0;31m \u001b[0mbuild_gov_index\u001b[0m\u001b[0;34m(\u001b[0m\u001b[0mes_conn\u001b[0m\u001b[0;34m,\u001b[0m \u001b[0mINDEX_NAME\u001b[0m\u001b[0;34m,\u001b[0m \u001b[0mDOCS_PATH\u001b[0m\u001b[0;34m,\u001b[0m \u001b[0mq3_settings\u001b[0m\u001b[0;34m)\u001b[0m\u001b[0;34m\u001b[0m\u001b[0m\n\u001b[0m\u001b[1;32m      3\u001b[0m \u001b[0mread_search_write_output\u001b[0m\u001b[0;34m(\u001b[0m\u001b[0msearch\u001b[0m\u001b[0;34m,\u001b[0m \u001b[0mquery_path\u001b[0m\u001b[0;34m,\u001b[0m \u001b[0moutput_file\u001b[0m\u001b[0;34m)\u001b[0m\u001b[0;34m\u001b[0m\u001b[0m\n",
      "\u001b[0;31mNameError\u001b[0m: name 'build_gov_index' is not defined"
     ]
    }
   ],
   "source": [
    "\n",
    "build_gov_index(es_conn, INDEX_NAME, DOCS_PATH, q3_settings)\n",
    "read_search_write_output(search, query_path, output_file)"
   ]
  },
  {
   "cell_type": "markdown",
   "metadata": {
    "deletable": false,
    "editable": false,
    "nbgrader": {
     "checksum": "ef47fa609296ea03356a244b7ba0691a",
     "grade": false,
     "grade_id": "cell-df229524d91669a3",
     "locked": true,
     "schema_version": 1,
     "solution": false
    }
   },
   "source": []
  },
  {
   "cell_type": "markdown",
   "metadata": {
    "deletable": false,
    "editable": false,
    "nbgrader": {
     "checksum": "8dd91df1f4b66856a1707b4561b439cf",
     "grade": false,
     "grade_id": "cell-0661220c4435ba52",
     "locked": true,
     "schema_version": 1,
     "solution": false
    }
   },
   "source": [
    "## Improve search algorithm"
   ]
  },
  {
   "cell_type": "markdown",
   "metadata": {
    "deletable": false,
    "editable": false,
    "nbgrader": {
     "checksum": "86877e836d76b8e5b24c1eb5cbf54ae0",
     "grade": false,
     "grade_id": "cell-80c53442f59e8cea",
     "locked": true,
     "schema_version": 1,
     "solution": false
    }
   },
   "source": [
    "*Elasticsearch* also provides multiple configurable scoring algorithms. For this task, you will be asked to find a better similarity module to improve the search performance. Please refer [here](https://www.elastic.co/guide/en/elasticsearch/reference/current/similarity.html) for better understanding of configurable elasticsearch similarity modules.\n",
    "\n",
    "You can also change the `search` function to improve performance. Please refer [here](https://www.elastic.co/guide/en/elasticsearch/reference/current/query-dsl.html) for better understanding of Query DSL used in *elasticsearch*."
   ]
  },
  {
   "cell_type": "code",
   "execution_count": 12,
   "metadata": {
    "deletable": false,
    "nbgrader": {
     "checksum": "de2a7de410381a20a9658b107cd33e99",
     "grade": true,
     "grade_id": "cell-5533d04f371dadea",
     "locked": false,
     "points": 0,
     "schema_version": 1,
     "solution": true
    }
   },
   "outputs": [],
   "source": [
    "# define your own analyzer for indexing and searching\n",
    "q4_settings = {\n",
    "  \"mappings\": {\n",
    "    \"doc\": {\n",
    "      \"properties\": {\n",
    "        \"filename\": {\n",
    "          \"type\": \"keyword\",\n",
    "          \"index\": False,\n",
    "        },\n",
    "        \"path\": {\n",
    "          \"type\": \"keyword\",\n",
    "          \"index\": False,\n",
    "        },\n",
    "        \"text\": {\n",
    "            # YOUR CODE HERE\n",
    "            \"type\": \"text\",\n",
    "            \"similarity\": \"BM25\",\n",
    "            \"analyzer\": \"my_analyzer\",\n",
    "            \"search_analyzer\": \"my_analyzer\"\n",
    "        }\n",
    "      }\n",
    "    }\n",
    "  },\n",
    "  \"settings\": {\n",
    "    \"analysis\": {\n",
    "      \"analyzer\": {\n",
    "            # YOUR CODE HERE\n",
    "            \"my_analyzer\": {\n",
    "            \"filter\": [\n",
    "            \"stop\",\"lowercase\",\"porter_stem\"\n",
    "          ],\n",
    "          \"char_filter\": [\n",
    "            \"html_strip\"\n",
    "          ],\n",
    "          \"type\": \"custom\",\n",
    "          \"tokenizer\": \"standard\"\n",
    "        }\n",
    "      }\n",
    "    }\n",
    "  }\n",
    "}\n",
    "\n",
    "\n",
    "# change search algorithm to improve the search results, the return type should be the same as that of `search` function\n",
    "def my_search(query_string, es_conn, index_name):\n",
    "    # YOUR CODE HERE\n",
    "    res = es_conn.search(index = index_name,\n",
    "        body = {\n",
    "            \"_source\": [ \"filename\"],\n",
    "            \"query\": {\n",
    "                \"query_string\": {\n",
    "                    \"query\": query_string,\n",
    "                }\n",
    "            }\n",
    "        }\n",
    "    )\n",
    "    return res['hits']['hits']\n",
    "\n"
   ]
  },
  {
   "cell_type": "code",
   "execution_count": 1,
   "metadata": {
    "deletable": false,
    "editable": false,
    "nbgrader": {
     "checksum": "16db429fd1208e1bf50ca9a00a400b17",
     "grade": false,
     "grade_id": "cell-0a5e21039c59945f",
     "locked": true,
     "schema_version": 1,
     "solution": false
    }
   },
   "outputs": [
    {
     "ename": "NameError",
     "evalue": "name 'build_gov_index' is not defined",
     "output_type": "error",
     "traceback": [
      "\u001b[0;31m---------------------------------------------------------------------------\u001b[0m",
      "\u001b[0;31mNameError\u001b[0m                                 Traceback (most recent call last)",
      "\u001b[0;32m<ipython-input-1-c3aa651431e9>\u001b[0m in \u001b[0;36m<module>\u001b[0;34m()\u001b[0m\n\u001b[1;32m      1\u001b[0m \u001b[0;31m# run this block to generate an output based on q4_settings and my_search defined above.\u001b[0m\u001b[0;34m\u001b[0m\u001b[0;34m\u001b[0m\u001b[0m\n\u001b[0;32m----> 2\u001b[0;31m \u001b[0mbuild_gov_index\u001b[0m\u001b[0;34m(\u001b[0m\u001b[0mes_conn\u001b[0m\u001b[0;34m,\u001b[0m \u001b[0mINDEX_NAME\u001b[0m\u001b[0;34m,\u001b[0m \u001b[0mDOCS_PATH\u001b[0m\u001b[0;34m,\u001b[0m \u001b[0mq4_settings\u001b[0m\u001b[0;34m)\u001b[0m\u001b[0;34m\u001b[0m\u001b[0m\n\u001b[0m\u001b[1;32m      3\u001b[0m \u001b[0mread_search_write_output\u001b[0m\u001b[0;34m(\u001b[0m\u001b[0mmy_search\u001b[0m\u001b[0;34m,\u001b[0m \u001b[0mquery_path\u001b[0m\u001b[0;34m,\u001b[0m \u001b[0moutput_file\u001b[0m\u001b[0;34m)\u001b[0m\u001b[0;34m\u001b[0m\u001b[0m\n",
      "\u001b[0;31mNameError\u001b[0m: name 'build_gov_index' is not defined"
     ]
    }
   ],
   "source": [
    "# run this block to generate an output based on q4_settings and my_search defined above.\n",
    "build_gov_index(es_conn, INDEX_NAME, DOCS_PATH, q4_settings)\n",
    "read_search_write_output(my_search, query_path, output_file)"
   ]
  },
  {
   "cell_type": "markdown",
   "metadata": {
    "deletable": false,
    "editable": false,
    "nbgrader": {
     "checksum": "a8ed8fc938a4880ff5bad6abad2839e0",
     "grade": false,
     "grade_id": "cell-d03c7164f0db2d79",
     "locked": true,
     "schema_version": 1,
     "solution": false
    }
   },
   "source": [
    "## Find the best combination"
   ]
  },
  {
   "cell_type": "markdown",
   "metadata": {
    "deletable": false,
    "editable": false,
    "nbgrader": {
     "checksum": "c9ac0f956006573f1729419cb5824414",
     "grade": false,
     "grade_id": "cell-9da5cf70072f7baf",
     "locked": true,
     "schema_version": 1,
     "solution": false
    }
   },
   "source": [
    "Now it's time to explorer the best configuration of indexer and search algorithms. Each combination will yield a different search outcome. "
   ]
  },
  {
   "cell_type": "code",
   "execution_count": null,
   "metadata": {
    "deletable": false,
    "nbgrader": {
     "checksum": "2b042473ea09d65fdff546dc279ecf1d",
     "grade": true,
     "grade_id": "cell-4dc16abdf8d3131b",
     "locked": false,
     "points": 0,
     "schema_version": 1,
     "solution": true
    }
   },
   "outputs": [],
   "source": [
    "# find the best combination of indexer configuration and search algorithm to maximise the performance of search result.\n",
    "best_settings = {\n",
    "    # YOUR CODE HERE\n",
    "    \"mappings\": {\n",
    "    \"doc\": {\n",
    "      \"properties\": {\n",
    "        \"filename\": {\n",
    "          \"type\": \"keyword\",\n",
    "          \"index\": False,\n",
    "        },\n",
    "        \"path\": {\n",
    "          \"type\": \"keyword\",\n",
    "          \"index\": False,\n",
    "        },\n",
    "        \"text\": {\n",
    "            # YOUR CODE HERE\n",
    "            \"type\": \"text\",\n",
    "            \"similarity\": \"BM25\",\n",
    "            \"analyzer\": \"my_analyzer\",\n",
    "            \"search_analyzer\": \"my_analyzer\"\n",
    "        }\n",
    "      }\n",
    "    }\n",
    "  },\n",
    "  \"settings\": {\n",
    "    \"analysis\": {\n",
    "      \"analyzer\": {\n",
    "            # YOUR CODE HERE\n",
    "            \"my_analyzer\": {\n",
    "            \"filter\": [\n",
    "            \"stop\",\"lowercase\",\"porter_stem\",\"shingle\"\n",
    "          ],\n",
    "          \"char_filter\": [\n",
    "            \"html_strip\"\n",
    "          ],\n",
    "          \"type\": \"custom\",\n",
    "          \"tokenizer\": \"standard\"\n",
    "        }\n",
    "      }\n",
    "    }\n",
    "  }\n",
    "}\n",
    "\n",
    "\n",
    "\n",
    "def best_search(query_string, es_conn, index_name):\n",
    "    # YOUR CODE HERE\n",
    "    res = es_conn.search(index = index_name,\n",
    "        body = {\n",
    "            \"_source\": [ \"filename\"],\n",
    "            \"query\": {\n",
    "                \"query_string\": {\n",
    "                    \"query\": query_string,\n",
    "                }\n",
    "            }\n",
    "        }\n",
    "    )\n",
    "    return res['hits']['hits']\n"
   ]
  },
  {
   "cell_type": "code",
   "execution_count": null,
   "metadata": {
    "deletable": false,
    "editable": false,
    "nbgrader": {
     "checksum": "cfda5ab63489f562294ff8fba1907dcb",
     "grade": false,
     "grade_id": "cell-1f9fa6f5bf378d0a",
     "locked": true,
     "schema_version": 1,
     "solution": false
    }
   },
   "outputs": [],
   "source": [
    "# TODO: run this block to generate the output\n",
    "build_gov_index(es_conn, INDEX_NAME, DOCS_PATH, best_settings)\n",
    "read_search_write_output(my_search, query_path, output_file)"
   ]
  },
  {
   "cell_type": "markdown",
   "metadata": {
    "deletable": false,
    "editable": false,
    "nbgrader": {
     "checksum": "a127c8b9b0d15cb21a615f889290bdd1",
     "grade": false,
     "grade_id": "cell-4abac591c7ef7d4a",
     "locked": true,
     "schema_version": 1,
     "solution": false
    }
   },
   "source": []
  },
  {
   "cell_type": "markdown",
   "metadata": {
    "deletable": false,
    "editable": false,
    "nbgrader": {
     "checksum": "584c2dae13eaf4a48c903b6aa31a68d5",
     "grade": false,
     "grade_id": "cell-7e9bfe1b4b37ced9",
     "locked": true,
     "schema_version": 1,
     "solution": false
    }
   },
   "source": []
  },
  {
   "cell_type": "markdown",
   "metadata": {
    "deletable": false,
    "nbgrader": {
     "checksum": "8a5f441f9d6f0226f883d6dcee3095fe",
     "grade": true,
     "grade_id": "cell-0ff68bc511be791d",
     "locked": false,
     "points": 2,
     "schema_version": 1,
     "solution": true
    }
   },
   "source": []
  },
  {
   "cell_type": "markdown",
   "metadata": {
    "deletable": false,
    "editable": false,
    "nbgrader": {
     "checksum": "9b054534102f5bd8c924bd69ad631c62",
     "grade": false,
     "grade_id": "cell-c83048719fa97fc7",
     "locked": true,
     "schema_version": 1,
     "solution": false
    }
   },
   "source": []
  },
  {
   "cell_type": "markdown",
   "metadata": {
    "deletable": false,
    "editable": false,
    "nbgrader": {
     "checksum": "843d24bad4cd528299f6039268f568e3",
     "grade": false,
     "grade_id": "cell-61f3446826c211ef",
     "locked": true,
     "schema_version": 1,
     "solution": false
    }
   },
   "source": []
  },
  {
   "cell_type": "markdown",
   "metadata": {
    "deletable": false,
    "nbgrader": {
     "checksum": "840de108e8c95bebf0ae029b1121c3bc",
     "grade": true,
     "grade_id": "cell-1f6c7740fd8a8aca",
     "locked": false,
     "points": 2,
     "schema_version": 1,
     "solution": true
    }
   },
   "source": []
  },
  {
   "cell_type": "markdown",
   "metadata": {
    "deletable": false,
    "editable": false,
    "nbgrader": {
     "checksum": "be9dfdacdc8b3c3fb7ba7540f2710d9d",
     "grade": false,
     "grade_id": "cell-3b168c5fa7737d37",
     "locked": true,
     "schema_version": 1,
     "solution": false
    }
   },
   "source": []
  },
  {
   "cell_type": "markdown",
   "metadata": {
    "deletable": false,
    "editable": false,
    "nbgrader": {
     "checksum": "7374fa7271265a61538acc6f1f6abca6",
     "grade": false,
     "grade_id": "cell-a3d94aebec568d16",
     "locked": true,
     "schema_version": 1,
     "solution": false
    }
   },
   "source": []
  },
  {
   "cell_type": "markdown",
   "metadata": {
    "deletable": false,
    "nbgrader": {
     "checksum": "0cbf0931584afb2dcd4c9f9e95ecacea",
     "grade": true,
     "grade_id": "cell-af0ec75627f339fe",
     "locked": false,
     "points": 2,
     "schema_version": 1,
     "solution": true
    }
   },
   "source": []
  },
  {
   "cell_type": "markdown",
   "metadata": {
    "deletable": false,
    "editable": false,
    "nbgrader": {
     "checksum": "5e446199b1e1bacba30aa6a2451bce72",
     "grade": false,
     "grade_id": "cell-9ca7c23c29ce4944",
     "locked": true,
     "schema_version": 1,
     "solution": false
    }
   },
   "source": []
  },
  {
   "cell_type": "markdown",
   "metadata": {
    "deletable": false,
    "editable": false,
    "nbgrader": {
     "checksum": "3a76cb2385760b6b925c0754fe2c8c17",
     "grade": false,
     "grade_id": "cell-fed539f3cce80673",
     "locked": true,
     "schema_version": 1,
     "solution": false
    }
   },
   "source": []
  },
  {
   "cell_type": "markdown",
   "metadata": {
    "deletable": false,
    "editable": false,
    "nbgrader": {
     "checksum": "89e6c1b923777e9df37d3e5e3c538f8a",
     "grade": false,
     "grade_id": "cell-7614e05f0b4dac58",
     "locked": true,
     "schema_version": 1,
     "solution": false
    }
   },
   "source": []
  },
  {
   "cell_type": "markdown",
   "metadata": {
    "deletable": false,
    "editable": false,
    "nbgrader": {
     "checksum": "2852643251d989cace90bb5a1509837b",
     "grade": false,
     "grade_id": "cell-48142ad1c5e9cb85",
     "locked": true,
     "schema_version": 1,
     "solution": false
    }
   },
   "source": []
  },
  {
   "cell_type": "code",
   "execution_count": null,
   "metadata": {},
   "outputs": [],
   "source": []
  }
 ],
 "metadata": {
  "kernelspec": {
   "display_name": "Python 2",
   "language": "python",
   "name": "python2"
  },
  "language_info": {
   "codemirror_mode": {
    "name": "ipython",
    "version": 2
   },
   "file_extension": ".py",
   "mimetype": "text/x-python",
   "name": "python",
   "nbconvert_exporter": "python",
   "pygments_lexer": "ipython2",
   "version": "2.7.15"
  }
 },
 "nbformat": 4,
 "nbformat_minor": 2
}
