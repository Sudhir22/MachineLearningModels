{
 "cells": [
  {
   "cell_type": "code",
   "execution_count": 2,
   "metadata": {},
   "outputs": [],
   "source": [
    "import pandas as pd\n",
    "import numpy as np"
   ]
  },
  {
   "cell_type": "code",
   "execution_count": 3,
   "metadata": {},
   "outputs": [],
   "source": [
    "train_data=pd.read_csv('../Q1/train_file.csv')"
   ]
  },
  {
   "cell_type": "code",
   "execution_count": 4,
   "metadata": {},
   "outputs": [
    {
     "name": "stdout",
     "output_type": "stream",
     "text": [
      "   Patient_ID  YEAR       LocationDesc  Subtopic  \\\n",
      "0           1  1995        Houston, TX         1   \n",
      "1           2  1997        Houston, TX         0   \n",
      "2           3  1993             Nevada         0   \n",
      "3           4  2017       Pennsylvania         1   \n",
      "4           5  2007  San Francisco, CA         1   \n",
      "\n",
      "                               Greater_Risk_Question  \\\n",
      "0                                  Ever used cocaine   \n",
      "1                            Currently drank alcohol   \n",
      "2  Had their first drink of alcohol before age 13...   \n",
      "3                                  Ever used cocaine   \n",
      "4  Ever took steroids without a doctor's prescrip...   \n",
      "\n",
      "                                         Description  Sample_Size     Sex  \\\n",
      "0  any form of cocaine, such as powder, crack, or...        335.0  Female   \n",
      "1  at least one drink of alcohol, on at least 1 d...        382.0   Total   \n",
      "2                              other than a few sips        196.0  Female   \n",
      "3  any form of cocaine, such as powder, crack, or...        104.0    Male   \n",
      "4  pills or shots, one or more times during their...        100.0  Female   \n",
      "\n",
      "                        Race  Grade  \\\n",
      "0         Hispanic or Latino      4   \n",
      "1  Black or African American      4   \n",
      "2                      White      0   \n",
      "3                      Asian      4   \n",
      "4              Multiple Race      4   \n",
      "\n",
      "                                 GeoLocation QuestionCode  StratID1  StratID2  \\\n",
      "0                    (29.760427, -95.369803)          H49         1         4   \n",
      "1                    (29.760427, -95.369803)          H42         0         3   \n",
      "2  (39.493240390000494, -117.07184056399967)          H41         1         6   \n",
      "3    (40.79373015200048, -77.86070029399963)          H49         2         2   \n",
      "4                    (37.77493, -122.419416)          H55         1         7   \n",
      "\n",
      "   StratID3 StratificationType  Greater_Risk_Probability  \n",
      "0         0              Local                    7.4793  \n",
      "1         0              Local                   49.6852  \n",
      "2         2              State                   47.8132  \n",
      "3         0              State                    3.4554  \n",
      "4         0              Local                    0.0000  \n"
     ]
    }
   ],
   "source": [
    "print(train_data.head())"
   ]
  },
  {
   "cell_type": "code",
   "execution_count": 5,
   "metadata": {},
   "outputs": [],
   "source": [
    "train_data['Greater_Risk_Question']=pd.Categorical(train_data['Greater_Risk_Question'])\n",
    "train_data['Description']=pd.Categorical(train_data['Description'])\n",
    "train_data['Sex']=pd.Categorical(train_data['Sex'])\n",
    "train_data['Race']=pd.Categorical(train_data['Race'])\n",
    "train_data['StratificationType']=pd.Categorical(train_data['StratificationType'])\n",
    "\n",
    "train_data['Greater_Risk_Question']=train_data['Greater_Risk_Question'].cat.codes\n",
    "train_data['Description']=train_data['Description'].cat.codes\n",
    "train_data['Sex']=train_data['Sex'].cat.codes\n",
    "train_data['Race']=train_data['Race'].cat.codes\n",
    "train_data['StratificationType']=train_data['StratificationType'].cat.codes\n"
   ]
  },
  {
   "cell_type": "code",
   "execution_count": 6,
   "metadata": {},
   "outputs": [
    {
     "name": "stdout",
     "output_type": "stream",
     "text": [
      "   Patient_ID  YEAR       LocationDesc  Subtopic  Greater_Risk_Question  \\\n",
      "0           1  1995        Houston, TX         1                      6   \n",
      "1           2  1997        Houston, TX         0                      0   \n",
      "2           3  1993             Nevada         0                     14   \n",
      "3           4  2017       Pennsylvania         1                      6   \n",
      "4           5  2007  San Francisco, CA         1                      5   \n",
      "\n",
      "   Description  Sample_Size  Sex  Race  Grade  \\\n",
      "0            7        335.0    0     3      4   \n",
      "1            8        382.0    2     2      4   \n",
      "2           14        196.0    0     7      0   \n",
      "3            7        104.0    1     1      4   \n",
      "4           15        100.0    0     4      4   \n",
      "\n",
      "                                 GeoLocation QuestionCode  StratID1  StratID2  \\\n",
      "0                    (29.760427, -95.369803)          H49         1         4   \n",
      "1                    (29.760427, -95.369803)          H42         0         3   \n",
      "2  (39.493240390000494, -117.07184056399967)          H41         1         6   \n",
      "3    (40.79373015200048, -77.86070029399963)          H49         2         2   \n",
      "4                    (37.77493, -122.419416)          H55         1         7   \n",
      "\n",
      "   StratID3  StratificationType  Greater_Risk_Probability  \n",
      "0         0                   0                    7.4793  \n",
      "1         0                   0                   49.6852  \n",
      "2         2                   3                   47.8132  \n",
      "3         0                   3                    3.4554  \n",
      "4         0                   0                    0.0000  \n"
     ]
    }
   ],
   "source": [
    "print(train_data.head())"
   ]
  },
  {
   "cell_type": "code",
   "execution_count": 7,
   "metadata": {},
   "outputs": [],
   "source": [
    "train_data=train_data.drop(train_data.columns[[0,1,2,10,11]],axis=1)"
   ]
  },
  {
   "cell_type": "code",
   "execution_count": 8,
   "metadata": {},
   "outputs": [],
   "source": [
    "train_X=train_data.iloc[:,:-1]\n",
    "train_y=train_data.iloc[:,-1]"
   ]
  },
  {
   "cell_type": "code",
   "execution_count": 9,
   "metadata": {},
   "outputs": [],
   "source": [
    "msk=np.random.randn(len(train_data))>0.75\n",
    "train_features=train_X[msk]\n",
    "test_features=train_X[~msk]\n",
    "train_prob=train_y[msk]\n",
    "test_prob=train_y[~msk]"
   ]
  },
  {
   "cell_type": "code",
   "execution_count": 41,
   "metadata": {},
   "outputs": [],
   "source": [
    "from sklearn import svm\n",
    "from sklearn import tree\n",
    "from sklearn.ensemble import RandomForestRegressor"
   ]
  },
  {
   "cell_type": "code",
   "execution_count": 42,
   "metadata": {},
   "outputs": [],
   "source": [
    "clf=RandomForestRegressor()"
   ]
  },
  {
   "cell_type": "code",
   "execution_count": 43,
   "metadata": {},
   "outputs": [
    {
     "data": {
      "text/plain": [
       "RandomForestRegressor(bootstrap=True, criterion='mse', max_depth=None,\n",
       "           max_features='auto', max_leaf_nodes=None,\n",
       "           min_impurity_decrease=0.0, min_impurity_split=None,\n",
       "           min_samples_leaf=1, min_samples_split=2,\n",
       "           min_weight_fraction_leaf=0.0, n_estimators=10, n_jobs=1,\n",
       "           oob_score=False, random_state=None, verbose=0, warm_start=False)"
      ]
     },
     "execution_count": 43,
     "metadata": {},
     "output_type": "execute_result"
    }
   ],
   "source": [
    "clf.fit(train_features,train_prob)"
   ]
  },
  {
   "cell_type": "code",
   "execution_count": 44,
   "metadata": {},
   "outputs": [],
   "source": [
    "y_pred=clf.predict(test_features)"
   ]
  },
  {
   "cell_type": "code",
   "execution_count": 45,
   "metadata": {},
   "outputs": [],
   "source": [
    "from sklearn.metrics import mean_squared_error"
   ]
  },
  {
   "cell_type": "code",
   "execution_count": 46,
   "metadata": {},
   "outputs": [
    {
     "name": "stdout",
     "output_type": "stream",
     "text": [
      "60.61661566084577\n"
     ]
    }
   ],
   "source": [
    "print(mean_squared_error(y_pred,test_prob))"
   ]
  },
  {
   "cell_type": "code",
   "execution_count": 47,
   "metadata": {},
   "outputs": [
    {
     "name": "stdout",
     "output_type": "stream",
     "text": [
      "   Patient_ID  YEAR                      LocationDesc  Subtopic  \\\n",
      "0       55400  2007                            Navajo         1   \n",
      "1       55401  2001                           Florida         1   \n",
      "2       55402  2005  Charlotte-Mecklenburg County, NC         1   \n",
      "3       55403  2017                            Nevada         1   \n",
      "4       55404  2007                          Illinois         1   \n",
      "\n",
      "                               Greater_Risk_Question  \\\n",
      "0                                Ever used marijuana   \n",
      "1                           Currently used marijuana   \n",
      "2  Were offered, sold, or given an illegal drug o...   \n",
      "3                      Ever used synthetic marijuana   \n",
      "4                                   Ever used heroin   \n",
      "\n",
      "                                         Description  Sample_Size    Sex  \\\n",
      "0  also called grass, pot, or weed, one or more t...        157.0   Male   \n",
      "1  also called grass, pot, or weed, one or more t...        724.0  Total   \n",
      "2             during the 12 months before the survey        105.0   Male   \n",
      "3  also called \"K2,\" \"Spice,\" \"fake weed,\" \"King ...        157.0   Male   \n",
      "4  also called \"smack,\" \"junk,\" or \"China White,\"...        174.0  Total   \n",
      "\n",
      "                        Race  Grade  \\\n",
      "0         Hispanic or Latino      3   \n",
      "1                      Total      2   \n",
      "2         Hispanic or Latino      4   \n",
      "3                      Total      2   \n",
      "4  Black or African American      1   \n",
      "\n",
      "                                 GeoLocation QuestionCode  StratID1  StratID2  \\\n",
      "0                                        NaN          H46         2         4   \n",
      "1   (28.932040377000476, -81.92896053899966)          H48         0         0   \n",
      "2                    (35.227087, -80.843127)          H58         2         4   \n",
      "3  (39.493240390000494, -117.07184056399967)          H54         2         0   \n",
      "4    (40.48501028300046, -88.99771017799969)          H51         0         3   \n",
      "\n",
      "   StratID3 StratificationType  \n",
      "0         1              Other  \n",
      "1         4              State  \n",
      "2         0              Local  \n",
      "3         4              State  \n",
      "4         3              State  \n"
     ]
    }
   ],
   "source": [
    "test_data=pd.read_csv('../Q1/test_file.csv')\n",
    "print(test_data.head())"
   ]
  },
  {
   "cell_type": "code",
   "execution_count": 48,
   "metadata": {},
   "outputs": [],
   "source": [
    "test_data['Greater_Risk_Question']=pd.Categorical(test_data['Greater_Risk_Question'])\n",
    "test_data['Description']=pd.Categorical(test_data['Description'])\n",
    "test_data['Sex']=pd.Categorical(test_data['Sex'])\n",
    "test_data['Race']=pd.Categorical(test_data['Race'])\n",
    "test_data['StratificationType']=pd.Categorical(test_data['StratificationType'])\n",
    "\n",
    "test_data['Greater_Risk_Question']=test_data['Greater_Risk_Question'].cat.codes\n",
    "test_data['Description']=test_data['Description'].cat.codes\n",
    "test_data['Sex']=test_data['Sex'].cat.codes\n",
    "test_data['Race']=test_data['Race'].cat.codes\n",
    "test_data['StratificationType']=test_data['StratificationType'].cat.codes\n"
   ]
  },
  {
   "cell_type": "code",
   "execution_count": 49,
   "metadata": {},
   "outputs": [],
   "source": [
    "test_data=test_data.drop(test_data.columns[[0,1,2,10,11]],axis=1)"
   ]
  },
  {
   "cell_type": "code",
   "execution_count": 50,
   "metadata": {},
   "outputs": [],
   "source": [
    "y_pred=clf.predict(test_data)"
   ]
  },
  {
   "cell_type": "code",
   "execution_count": 51,
   "metadata": {},
   "outputs": [],
   "source": [
    "test_data=pd.read_csv('../Q1/test_file.csv')"
   ]
  },
  {
   "cell_type": "code",
   "execution_count": 52,
   "metadata": {},
   "outputs": [],
   "source": [
    "test_data['Greater_Risk_Probability']=pd.Series(y_pred)"
   ]
  },
  {
   "cell_type": "code",
   "execution_count": 53,
   "metadata": {},
   "outputs": [],
   "source": [
    "test_data[['Patient_ID','Greater_Risk_Probability']].to_csv('output.csv',index=False)"
   ]
  }
 ],
 "metadata": {
  "kernelspec": {
   "display_name": "Python 3",
   "language": "python",
   "name": "python3"
  },
  "language_info": {
   "codemirror_mode": {
    "name": "ipython",
    "version": 3
   },
   "file_extension": ".py",
   "mimetype": "text/x-python",
   "name": "python",
   "nbconvert_exporter": "python",
   "pygments_lexer": "ipython3",
   "version": "3.6.5"
  }
 },
 "nbformat": 4,
 "nbformat_minor": 2
}
